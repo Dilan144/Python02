{
 "cells": [
  {
   "cell_type": "markdown",
   "id": "97a375fd",
   "metadata": {},
   "source": [
    "### Python fundamentos\n",
    "* Variables\n",
    "* Tipos de datos\n",
    "    - Strings\n",
    "    - Enteros\n",
    "    - Flotantes\n",
    "    - Listas\n",
    "    - Diccionarios\n",
    "    - Tuplas\n",
    "* Operadores\n",
    "    - Matemáticos\n",
    "    - Comparación\n",
    "    - Lógicos\n",
    "* Estructuras de control\n",
    "    - Condicionales\n",
    "    - Ciclos finitos\n",
    "    - Funciones\n"
   ]
  },
  {
   "cell_type": "code",
   "execution_count": 4,
   "id": "f10012fd",
   "metadata": {},
   "outputs": [],
   "source": [
    "# variables\n",
    "name = \"Ada\"\n",
    "age = 30\n"
   ]
  },
  {
   "cell_type": "code",
   "execution_count": 3,
   "id": "728b73be",
   "metadata": {},
   "outputs": [
    {
     "data": {
      "text/plain": [
       "'Ada'"
      ]
     },
     "execution_count": 3,
     "metadata": {},
     "output_type": "execute_result"
    }
   ],
   "source": [
    "name"
   ]
  },
  {
   "cell_type": "code",
   "execution_count": null,
   "id": "05bf3785",
   "metadata": {},
   "outputs": [],
   "source": [
    "last_name = \"Amarillo\""
   ]
  },
  {
   "cell_type": "code",
   "execution_count": 5,
   "id": "2473f0b4",
   "metadata": {},
   "outputs": [],
   "source": [
    "LastName = \"Amarillo\""
   ]
  },
  {
   "cell_type": "code",
   "execution_count": 6,
   "id": "673af3d6",
   "metadata": {},
   "outputs": [],
   "source": [
    "Lastname = \"Amarillo\""
   ]
  },
  {
   "cell_type": "code",
   "execution_count": 7,
   "id": "8e8f5a9e",
   "metadata": {},
   "outputs": [],
   "source": [
    "LASTNAME = \"Amarillo\""
   ]
  },
  {
   "cell_type": "code",
   "execution_count": 8,
   "id": "e3ce7b9d",
   "metadata": {},
   "outputs": [
    {
     "ename": "NameError",
     "evalue": "name 'last' is not defined",
     "output_type": "error",
     "traceback": [
      "\u001b[31m---------------------------------------------------------------------------\u001b[39m",
      "\u001b[31mNameError\u001b[39m                                 Traceback (most recent call last)",
      "\u001b[36mCell\u001b[39m\u001b[36m \u001b[39m\u001b[32mIn[8]\u001b[39m\u001b[32m, line 1\u001b[39m\n\u001b[32m----> \u001b[39m\u001b[32m1\u001b[39m \u001b[43mlast\u001b[49m.name = \u001b[33m\"\u001b[39m\u001b[33mAmarillo\u001b[39m\u001b[33m\"\u001b[39m\n",
      "\u001b[31mNameError\u001b[39m: name 'last' is not defined"
     ]
    }
   ],
   "source": [
    "last.name = \"Amarillo\""
   ]
  },
  {
   "cell_type": "code",
   "execution_count": 9,
   "id": "fa02d1c5",
   "metadata": {},
   "outputs": [
    {
     "ename": "SyntaxError",
     "evalue": "cannot assign to expression here. Maybe you meant '==' instead of '='? (824550936.py, line 1)",
     "output_type": "error",
     "traceback": [
      "  \u001b[36mCell\u001b[39m\u001b[36m \u001b[39m\u001b[32mIn[9]\u001b[39m\u001b[32m, line 1\u001b[39m\n\u001b[31m    \u001b[39m\u001b[31mlast-name = \"Amarillo\"\u001b[39m\n    ^\n\u001b[31mSyntaxError\u001b[39m\u001b[31m:\u001b[39m cannot assign to expression here. Maybe you meant '==' instead of '='?\n"
     ]
    }
   ],
   "source": [
    "last-name = \"Amarillo\""
   ]
  },
  {
   "cell_type": "code",
   "execution_count": 10,
   "id": "a06dea20",
   "metadata": {},
   "outputs": [
    {
     "data": {
      "text/plain": [
       "'Ada'"
      ]
     },
     "execution_count": 10,
     "metadata": {},
     "output_type": "execute_result"
    }
   ],
   "source": [
    "name"
   ]
  },
  {
   "cell_type": "code",
   "execution_count": 14,
   "id": "f9409816",
   "metadata": {},
   "outputs": [],
   "source": [
    "name = \"Amarillo\""
   ]
  },
  {
   "cell_type": "code",
   "execution_count": 12,
   "id": "5295b81c",
   "metadata": {},
   "outputs": [
    {
     "data": {
      "text/plain": [
       "'Amarillo'"
      ]
     },
     "execution_count": 12,
     "metadata": {},
     "output_type": "execute_result"
    }
   ],
   "source": [
    "name"
   ]
  },
  {
   "cell_type": "code",
   "execution_count": 15,
   "id": "9a227bb3",
   "metadata": {},
   "outputs": [],
   "source": [
    "# operadares matemáticos\n",
    "number1 = 10\n",
    "number2 = 5\n",
    "\n",
    "result_sum = number1 + number2\n",
    "result_subtraction = number1 - number2  \n",
    "result_multiplication = number1 * number2\n",
    "result_division = number1 / number2"
   ]
  },
  {
   "cell_type": "code",
   "execution_count": 16,
   "id": "f415b419",
   "metadata": {},
   "outputs": [
    {
     "data": {
      "text/plain": [
       "2.0"
      ]
     },
     "execution_count": 16,
     "metadata": {},
     "output_type": "execute_result"
    }
   ],
   "source": [
    "result_division"
   ]
  },
  {
   "cell_type": "code",
   "execution_count": 18,
   "id": "d6667863",
   "metadata": {},
   "outputs": [
    {
     "name": "stdout",
     "output_type": "stream",
     "text": [
      "15\n",
      "5\n",
      "50\n",
      "2.0\n"
     ]
    }
   ],
   "source": [
    "print(result_sum)\n",
    "print(result_subtraction)\n",
    "print(result_multiplication)    \n",
    "print(result_division)"
   ]
  },
  {
   "cell_type": "code",
   "execution_count": 20,
   "id": "d997e596",
   "metadata": {},
   "outputs": [
    {
     "name": "stdout",
     "output_type": "stream",
     "text": [
      "El resultado de la suma es: 15\n",
      "El resultado de la resta es: 5\n",
      "El resultado de la multiplicación es: 50\n",
      "El resultado de la división es: 2.0\n"
     ]
    }
   ],
   "source": [
    "print(f\"El resultado de la suma es: {result_sum}\")\n",
    "print(f\"El resultado de la resta es: {result_subtraction}\")\n",
    "print(f\"El resultado de la multiplicación es: {result_multiplication}\")\n",
    "print(f\"El resultado de la división es: {result_division}\")"
   ]
  },
  {
   "cell_type": "code",
   "execution_count": null,
   "id": "4aae5078",
   "metadata": {},
   "outputs": [],
   "source": [
    "day = \"lunes\"\n",
    "\n",
    "if day == \"Lunes\":\n",
    "    print(\"Hoy es lunes\")"
   ]
  },
  {
   "cell_type": "code",
   "execution_count": null,
   "id": "c81d13fb",
   "metadata": {},
   "outputs": [
    {
     "ename": "",
     "evalue": "",
     "output_type": "error",
     "traceback": [
      "\u001b[1;31mRunning cells with 'Python 3.12.3' requires the ipykernel package.\n",
      "\u001b[1;31m<a href='command:jupyter.createPythonEnvAndSelectController'>Create a Python Environment</a> with the required packages.\n",
      "\u001b[1;31mOr install 'ipykernel' using the command: 'c:/Users/dilan/AppData/Local/Programs/Python/Python312/python.exe -m pip install ipykernel -U --user --force-reinstall'"
     ]
    }
   ],
   "source": [
    "day = input(\"Ingrese un día de la semana: \")\n",
    "\n",
    "if day == \"Lunes\":\n",
    "    print(\"Hoy es lunes\")\n",
    "else:\n",
    "    print(\"Hoy no es lunes\")"
   ]
  },
  {
   "cell_type": "code",
   "execution_count": 1,
   "id": "5df08a14",
   "metadata": {},
   "outputs": [
    {
     "name": "stdout",
     "output_type": "stream",
     "text": [
      "Hoy es sábado\n"
     ]
    }
   ],
   "source": [
    "#condicionales encadenados para el fin de semana\n",
    "day = input(\"Ingrese un día de la semana: \")\n",
    "\n",
    "if day == \"sábado\":\n",
    "    print(\"Hoy es sábado\")\n",
    "elif day == \"domingo\":\n",
    "    print(\"Hoy es domingo\")\n",
    "else:\n",
    "    print(\"Hoy no es sábado ni domingo\")"
   ]
  },
  {
   "cell_type": "code",
   "execution_count": null,
   "id": "81db65cc",
   "metadata": {},
   "outputs": [],
   "source": [
    "# condicionales anidados\n",
    "day = input(\"Ingrese un día de la semana: \")\n",
    "hora = input(\"Ingrese la hora (en formato HH:MM): \")\n",
    "\n",
    "if day == \"sábado\":\n",
    "    if hora == \"03:00\":\n",
    "        print(\"tengo que ir a clases\")\n",
    "    else:\n",
    "        print(\"no tengo que ir a clases\")\n",
    "else:\n",
    "    print(\"no es sábado, no tengo que ir a clases\")\n"
   ]
  },
  {
   "cell_type": "code",
   "execution_count": null,
   "id": "65456e86",
   "metadata": {},
   "outputs": [],
   "source": [
    " # operadores lógicos\n",
    "# and, or, not"
   ]
  },
  {
   "cell_type": "code",
   "execution_count": null,
   "id": "ae11a7be",
   "metadata": {},
   "outputs": [],
   "source": [
    "# condicionales anidados\n",
    "day = input(\"Ingrese un día de la semana: \")\n",
    "hora = input(\"Ingrese la hora (en formato HH:MM): \")\n",
    "\n",
    "if (day == \"sábado\") and (hora == \"03:00\"):\n",
    "        print(\"tengo que ir a clases\")"
   ]
  },
  {
   "cell_type": "code",
   "execution_count": 7,
   "id": "7c5f9dbf",
   "metadata": {},
   "outputs": [
    {
     "data": {
      "text/plain": [
       "True"
      ]
     },
     "execution_count": 7,
     "metadata": {},
     "output_type": "execute_result"
    }
   ],
   "source": [
    "True and True"
   ]
  },
  {
   "cell_type": "code",
   "execution_count": 8,
   "id": "ef5c7dab",
   "metadata": {},
   "outputs": [
    {
     "data": {
      "text/plain": [
       "False"
      ]
     },
     "execution_count": 8,
     "metadata": {},
     "output_type": "execute_result"
    }
   ],
   "source": [
    "True and False"
   ]
  },
  {
   "cell_type": "code",
   "execution_count": 6,
   "id": "9e91dbd9",
   "metadata": {},
   "outputs": [],
   "source": [
    "# listas\n",
    "names = [\"jose\", \"maria\", \"juan\", \"ana\"]\n",
    "Ages = [25, 30, 35, 40]\n",
    "pesos = [70.5, 60.2, 80.3, 55.0]"
   ]
  },
  {
   "cell_type": "code",
   "execution_count": 4,
   "id": "a53c7366",
   "metadata": {},
   "outputs": [],
   "source": [
    "last_name = \"Amarillo\""
   ]
  },
  {
   "cell_type": "code",
   "execution_count": 5,
   "id": "63ab9c83",
   "metadata": {},
   "outputs": [
    {
     "data": {
      "text/plain": [
       "'amarillo'"
      ]
     },
     "execution_count": 5,
     "metadata": {},
     "output_type": "execute_result"
    }
   ],
   "source": [
    "last_name.lower()"
   ]
  },
  {
   "cell_type": "code",
   "execution_count": 10,
   "id": "813e43db",
   "metadata": {},
   "outputs": [
    {
     "data": {
      "text/plain": [
       "'Am'"
      ]
     },
     "execution_count": 10,
     "metadata": {},
     "output_type": "execute_result"
    }
   ],
   "source": [
    "last_name[0:2]"
   ]
  },
  {
   "cell_type": "code",
   "execution_count": 11,
   "id": "0a0a2e4b",
   "metadata": {},
   "outputs": [
    {
     "data": {
      "text/plain": [
       "'Amar'"
      ]
     },
     "execution_count": 11,
     "metadata": {},
     "output_type": "execute_result"
    }
   ],
   "source": [
    "last_name[:4]"
   ]
  },
  {
   "cell_type": "code",
   "execution_count": 12,
   "id": "d670daa7",
   "metadata": {},
   "outputs": [
    {
     "data": {
      "text/plain": [
       "'o'"
      ]
     },
     "execution_count": 12,
     "metadata": {},
     "output_type": "execute_result"
    }
   ],
   "source": [
    "last_name[-1]"
   ]
  },
  {
   "cell_type": "code",
   "execution_count": 13,
   "id": "4ab59504",
   "metadata": {},
   "outputs": [
    {
     "data": {
      "text/plain": [
       "'jose'"
      ]
     },
     "execution_count": 13,
     "metadata": {},
     "output_type": "execute_result"
    }
   ],
   "source": [
    "names[0]"
   ]
  },
  {
   "cell_type": "code",
   "execution_count": 14,
   "id": "f96716a8",
   "metadata": {},
   "outputs": [
    {
     "data": {
      "text/plain": [
       "['jose', 'maria']"
      ]
     },
     "execution_count": 14,
     "metadata": {},
     "output_type": "execute_result"
    }
   ],
   "source": [
    "names[0:2]\n"
   ]
  },
  {
   "cell_type": "code",
   "execution_count": 15,
   "id": "172536cb",
   "metadata": {},
   "outputs": [],
   "source": [
    "names = [\n",
    "    \"jose\",\n",
    "    \"maria\", \n",
    "    \"juan\", \n",
    "    \"ana\"\n",
    "    ]"
   ]
  },
  {
   "cell_type": "code",
   "execution_count": 16,
   "id": "598cd631",
   "metadata": {},
   "outputs": [],
   "source": [
    "names.append(\"juan\")"
   ]
  },
  {
   "cell_type": "code",
   "execution_count": 17,
   "id": "1de49185",
   "metadata": {},
   "outputs": [
    {
     "data": {
      "text/plain": [
       "['jose', 'maria', 'juan', 'ana', 'juan']"
      ]
     },
     "execution_count": 17,
     "metadata": {},
     "output_type": "execute_result"
    }
   ],
   "source": [
    "names"
   ]
  },
  {
   "cell_type": "code",
   "execution_count": null,
   "id": "acc815bf",
   "metadata": {},
   "outputs": [],
   "source": [
    "# tuplas \n",
    "# Tuplas son similares a las listas, pero son inmutables (no se pueden modificar una vez creadas)\n"
   ]
  },
  {
   "cell_type": "code",
   "execution_count": 18,
   "id": "06b2df71",
   "metadata": {},
   "outputs": [
    {
     "data": {
      "text/plain": [
       "5"
      ]
     },
     "execution_count": 18,
     "metadata": {},
     "output_type": "execute_result"
    }
   ],
   "source": [
    "len(names)"
   ]
  },
  {
   "cell_type": "code",
   "execution_count": 19,
   "id": "e343b6e6",
   "metadata": {},
   "outputs": [],
   "source": [
    "names.insert(1, \"roberto\")\n"
   ]
  },
  {
   "cell_type": "code",
   "execution_count": 20,
   "id": "d9706dc9",
   "metadata": {},
   "outputs": [
    {
     "data": {
      "text/plain": [
       "['jose', 'roberto', 'maria', 'juan', 'ana', 'juan']"
      ]
     },
     "execution_count": 20,
     "metadata": {},
     "output_type": "execute_result"
    }
   ],
   "source": [
    "names"
   ]
  },
  {
   "cell_type": "code",
   "execution_count": 21,
   "id": "36b1e556",
   "metadata": {},
   "outputs": [],
   "source": [
    "# cambia el nombre de la pocisión 1 por marta\n",
    "names[1] = \"marta\""
   ]
  },
  {
   "cell_type": "code",
   "execution_count": 22,
   "id": "d4f4e297",
   "metadata": {},
   "outputs": [
    {
     "data": {
      "text/plain": [
       "['jose', 'marta', 'maria', 'juan', 'ana', 'juan']"
      ]
     },
     "execution_count": 22,
     "metadata": {},
     "output_type": "execute_result"
    }
   ],
   "source": [
    "names"
   ]
  },
  {
   "cell_type": "code",
   "execution_count": 23,
   "id": "c1bcb57d",
   "metadata": {},
   "outputs": [],
   "source": [
    "# tupla de nombres\n",
    "names_tuple = (\"jose\", \"maria\", \"juan\", \"ana\")"
   ]
  },
  {
   "cell_type": "code",
   "execution_count": 24,
   "id": "5f0a0b8e",
   "metadata": {},
   "outputs": [],
   "source": [
    "# tuplas con numeros y caractares\n",
    "tuple_2 = (20, \"python\", 3.1)"
   ]
  },
  {
   "cell_type": "code",
   "execution_count": null,
   "id": "33ee0429",
   "metadata": {},
   "outputs": [],
   "source": [
    "# deccionarios\n",
    "dict1 = {\n",
    "    \"name\":\"Jose\",\n",
    "    \"age\": 30,\n",
    "    \"peso\": 70.5,\n",
    "    \"comida\": [\"pollo\", \"pescado\", \"carne\"],\n",
    "    \"claves\": {\n",
    "        \"correo\":1234,\n",
    "        \"netflix\":\"clave\"\n",
    "    }\n",
    "}"
   ]
  },
  {
   "cell_type": "code",
   "execution_count": 26,
   "id": "49b96376",
   "metadata": {},
   "outputs": [
    {
     "data": {
      "text/plain": [
       "'Jose'"
      ]
     },
     "execution_count": 26,
     "metadata": {},
     "output_type": "execute_result"
    }
   ],
   "source": [
    "dict1[\"name\"]"
   ]
  },
  {
   "cell_type": "code",
   "execution_count": 27,
   "id": "d3e7777d",
   "metadata": {},
   "outputs": [
    {
     "ename": "KeyError",
     "evalue": "'claves'",
     "output_type": "error",
     "traceback": [
      "\u001b[31m---------------------------------------------------------------------------\u001b[39m",
      "\u001b[31mKeyError\u001b[39m                                  Traceback (most recent call last)",
      "\u001b[36mCell\u001b[39m\u001b[36m \u001b[39m\u001b[32mIn[27]\u001b[39m\u001b[32m, line 1\u001b[39m\n\u001b[32m----> \u001b[39m\u001b[32m1\u001b[39m \u001b[43mdict1\u001b[49m\u001b[43m[\u001b[49m\u001b[33;43m\"\u001b[39;49m\u001b[33;43mclaves\u001b[39;49m\u001b[33;43m\"\u001b[39;49m\u001b[43m]\u001b[49m[\u001b[33m\"\u001b[39m\u001b[33mcorreo\u001b[39m\u001b[33m\"\u001b[39m]\n",
      "\u001b[31mKeyError\u001b[39m: 'claves'"
     ]
    }
   ],
   "source": [
    "dict1[\"claves\"][\"correo\"]"
   ]
  }
 ],
 "metadata": {
  "kernelspec": {
   "display_name": ".venv",
   "language": "python",
   "name": "python3"
  },
  "language_info": {
   "codemirror_mode": {
    "name": "ipython",
    "version": 3
   },
   "file_extension": ".py",
   "mimetype": "text/x-python",
   "name": "python",
   "nbconvert_exporter": "python",
   "pygments_lexer": "ipython3",
   "version": "3.12.3"
  }
 },
 "nbformat": 4,
 "nbformat_minor": 5
}
